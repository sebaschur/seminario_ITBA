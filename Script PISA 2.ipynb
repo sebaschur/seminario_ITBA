{
 "cells": [
  {
   "cell_type": "code",
   "execution_count": 1,
   "metadata": {},
   "outputs": [],
   "source": [
    "import pandas as pd\n",
    "import findspark\n",
    "import os\n",
    "findspark.add_jars('/app/postgresql-42.1.4.jar')\n",
    "findspark.init()"
   ]
  },
  {
   "cell_type": "code",
   "execution_count": 2,
   "metadata": {},
   "outputs": [],
   "source": [
    "from pyspark.sql import SparkSession\n",
    "spark = SparkSession.builder.appName(\"pyspark-postgres\").getOrCreate()"
   ]
  },
  {
   "cell_type": "code",
   "execution_count": 6,
   "metadata": {},
   "outputs": [],
   "source": [
    "pisa_dtypes={\n",
    "    'cnt': 'object'\n",
    "    ,'cnt.label': 'object'\n",
    "    ,'is.subnation': 'int8'\n",
    "    ,'amlat': 'int8'\n",
    "    ,'subnation': 'object'\n",
    "    ,'subnation.label': 'object'\n",
    "    ,'schoolid': 'object'\n",
    "    ,'stuid': 'object'\n",
    "    ,'cyc': 'int16'\n",
    "    ,'oecd': 'int8'\n",
    "    ,'gender': 'float16'\n",
    "    ,'grade': 'float16'\n",
    "    ,'hisced': 'float16'\n",
    "    ,'pared': 'float16'\n",
    "    ,'hisei': 'float16'\n",
    "    ,'repeat.grade': 'float16'\n",
    "    ,'escs': 'float16'\n",
    "    ,'icthome': 'float16'\n",
    "    ,'ictsch': 'float16'\n",
    "    ,'homepos': 'float16'\n",
    "    ,'wealth': 'float16'\n",
    "    ,'usesch': 'float16'\n",
    "    ,'w_fstuwt': 'float16'\n",
    "    ,'prom_read': 'float16'\n",
    "    ,'prom_math': 'float16'\n",
    "    ,'prom_scie': 'float16'\n",
    "}"
   ]
  },
  {
   "cell_type": "code",
   "execution_count": 19,
   "metadata": {},
   "outputs": [],
   "source": [
    "archivos=list(filter(lambda x: x.endswith('.csv'),os.listdir(os.curdir)))"
   ]
  },
  {
   "cell_type": "code",
   "execution_count": 21,
   "metadata": {},
   "outputs": [],
   "source": [
    "n=0\n",
    "for x in archivos:\n",
    "    df=spark.createDataFrame(pd.read_csv(x,encoding=\"utf8\",dtype=pisa_dtypes))\n",
    "    if n==0:\n",
    "        modo=\"overwrite\"\n",
    "    else:\n",
    "        modo=\"append\"\n",
    "    df.write \\\n",
    "    .mode(modo) \\\n",
    "    .format(\"jdbc\") \\\n",
    "    .option(\"url\", \"jdbc:postgresql://postgres/workshop\") \\\n",
    "    .option(\"dbtable\", \"workshop.PISA\") \\\n",
    "    .option(\"user\", \"workshop\") \\\n",
    "    .option(\"password\", \"w0rkzh0p\") \\\n",
    "    .option(\"driver\", \"org.postgresql.Driver\") \\\n",
    "    .save()\n",
    "    n=n+1"
   ]
  },
  {
   "cell_type": "code",
   "execution_count": 22,
   "metadata": {},
   "outputs": [],
   "source": [
    "spark.stop()"
   ]
  }
 ],
 "metadata": {
  "kernelspec": {
   "display_name": "Python 3",
   "language": "python",
   "name": "python3"
  },
  "language_info": {
   "codemirror_mode": {
    "name": "ipython",
    "version": 3
   },
   "file_extension": ".py",
   "mimetype": "text/x-python",
   "name": "python",
   "nbconvert_exporter": "python",
   "pygments_lexer": "ipython3",
   "version": "3.7.3"
  }
 },
 "nbformat": 4,
 "nbformat_minor": 2
}
